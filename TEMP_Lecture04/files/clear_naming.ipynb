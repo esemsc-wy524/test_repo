{
 "cells": [
  {
   "cell_type": "markdown",
   "id": "ccc38009-abfa-4301-bef1-ddfb01001878",
   "metadata": {},
   "source": [
    "# Question:\n",
    "\n",
    "You are asked to write a function that calculates the total cost of purchasing multiple items. The function should take in the price of a single item and the quantity of items being purchased, and return the total cost. Make sure to give your variables and the function a meaningful name."
   ]
  },
  {
   "cell_type": "code",
   "execution_count": null,
   "id": "db9eada8-9b95-4204-8809-93cb208f77c0",
   "metadata": {},
   "outputs": [],
   "source": [
    "### Bad answer (cryptic names)\n",
    "def f(a, b):\n",
    "    c = a * b\n",
    "    return c\n",
    "\n",
    "x = 10\n",
    "y = 5\n",
    "z = f(x, y)\n",
    "print(z)"
   ]
  },
  {
   "cell_type": "code",
   "execution_count": null,
   "id": "cf8e9269-f349-4f74-a283-e2eff3222149",
   "metadata": {},
   "outputs": [],
   "source": [
    "### Good answer (descriptive names)\n",
    "def calculate_total_cost(price_per_item, quantity):\n",
    "    total_cost = price_per_item * quantity\n",
    "    return total_cost\n",
    "\n",
    "price = 10\n",
    "quantity = 5\n",
    "total_cost = calculate_total_cost(price, quantity)\n",
    "print(total_cost)"
   ]
  }
 ],
 "metadata": {
  "kernelspec": {
   "display_name": "Python 3 (ipykernel)",
   "language": "python",
   "name": "python3"
  },
  "language_info": {
   "codemirror_mode": {
    "name": "ipython",
    "version": 3
   },
   "file_extension": ".py",
   "mimetype": "text/x-python",
   "name": "python",
   "nbconvert_exporter": "python",
   "pygments_lexer": "ipython3",
   "version": "3.12.7"
  }
 },
 "nbformat": 4,
 "nbformat_minor": 5
}
