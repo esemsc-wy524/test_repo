{
 "cells": [
  {
   "cell_type": "markdown",
   "id": "a516157a",
   "metadata": {
    "slideshow": {
     "slide_type": "slide"
    },
    "tags": []
   },
   "source": [
    "# $0.2 + 0.1 \\ne 0.3$ 🤯😵‍💫\n",
    "### (floating point arithmetic)"
   ]
  },
  {
   "cell_type": "markdown",
   "id": "35163538",
   "metadata": {
    "slideshow": {
     "slide_type": "slide"
    },
    "tags": []
   },
   "source": [
    "### [~~Dr~~ **Marijan** ~~Beg~~](https://profiles.imperial.ac.uk/m.beg) (MAH - ree - yahn)\n",
    "\n",
    "- **Office**: Royal School of Mines (RSM) 4.95 (4th floor)\n",
    "- **Email**: m.beg@imperial.ac.uk\n",
    "- **GitHub**: [@marijanbeg](https://github.com/marijanbeg)\n",
    "- **Marijan's anonymous feedback form**: https://forms.office.com/e/BiekMgPTMm\n",
    "  - the form is the same all year, and it is available anytime... I'm keeping an eye on it."
   ]
  },
  {
   "cell_type": "markdown",
   "id": "5eae9351",
   "metadata": {
    "slideshow": {
     "slide_type": "slide"
    },
    "tags": []
   },
   "source": [
    "### Don't Hesitate to Interrupt!\n",
    "\n",
    "- [**Cognitive Load Theory (CLT)**](https://www.tandfonline.com/doi/full/10.3109/0142159X.2014.889290)\n",
    "  - On average, our brains can hold **only 7 \"chunks\" of information at once** in working memory.\n",
    "  - A chunk can be a fact, idea, or task.\n",
    "  - Once we reach this limit, we overlook or forget things.\n",
    "- If I juggle 7 tasks at once, I will forget the 8th one...\n",
    "- **If I say some nonsense, you spot a mistake, or have a question, just speak up: \"Hey Marijan, what...?\"**"
   ]
  },
  {
   "cell_type": "markdown",
   "id": "cda1b157",
   "metadata": {
    "slideshow": {
     "slide_type": "slide"
    },
    "tags": []
   },
   "source": [
    "### Intended Learning Outcomes (ILOs)\n",
    "\n",
    "By the end of this lecture, you should be able to:\n",
    "1. Represent floating point numbers using IEEE-754 standard.\n",
    "2. Identify common issues with floating point arithmetic, such as rounding errors, overflow, and underflow.\n",
    "3. Recognise some limitations of floating point arithmetic and how they can impact numerical accuracy."
   ]
  },
  {
   "cell_type": "markdown",
   "id": "d2f6d2a7",
   "metadata": {
    "slideshow": {
     "slide_type": "slide"
    },
    "tags": []
   },
   "source": [
    "### Intended Learning Outcomes (ILOs)???\n",
    "\n",
    "- An ILO is what you should be able to do by the end of a lecture or a module.\n",
    "- Think about ILOs as your **learning goals**.\n",
    "- At MSc level, we often throw at you much more information than you have time to digest.\n",
    "- ILOs help both you and me to stay focused on what's most important.\n",
    "- If at the end of the lecture, you feel like you can do most ILOs, we did a good job! 🎉🕺"
   ]
  },
  {
   "cell_type": "markdown",
   "id": "d1fd22a9",
   "metadata": {
    "slideshow": {
     "slide_type": "slide"
    }
   },
   "source": [
    "## Surprises 🫢😯🤯"
   ]
  },
  {
   "cell_type": "markdown",
   "id": "bc6c7bdc",
   "metadata": {
    "slideshow": {
     "slide_type": "slide"
    },
    "tags": []
   },
   "source": [
    "### Surprise 1\n",
    "\n",
    "#### Maths says...\n",
    "For any $x \\in \\mathbb{R}$ if $x \\ne 0$\n",
    "$$1 + x \\ne 1$$\n",
    "\n",
    "#### Computer says...\n",
    "$$x = 10^{-16}$$"
   ]
  },
  {
   "cell_type": "code",
   "execution_count": null,
   "id": "82fd13a0",
   "metadata": {
    "slideshow": {
     "slide_type": ""
    },
    "tags": []
   },
   "outputs": [],
   "source": [
    "x = 1e-16  # this is 10^{-16}\n",
    "\n",
    "print(1 + x != 1)"
   ]
  },
  {
   "cell_type": "markdown",
   "id": "3eb23512",
   "metadata": {
    "slideshow": {
     "slide_type": "slide"
    },
    "tags": []
   },
   "source": [
    "### Surprise 2\n",
    "\n",
    "#### Maths says...\n",
    "$$\\frac{1}{10} + \\frac{2}{10} = \\frac{3}{10}$$\n",
    "\n",
    "$$0.1 + 0.2 = 0.3$$\n",
    "\n",
    "#### Computer says..."
   ]
  },
  {
   "cell_type": "code",
   "execution_count": null,
   "id": "93ad5f52",
   "metadata": {
    "slideshow": {
     "slide_type": ""
    },
    "tags": []
   },
   "outputs": [],
   "source": [
    "print(0.1 + 0.2 == 0.3)"
   ]
  },
  {
   "cell_type": "markdown",
   "id": "7f7c16d5",
   "metadata": {
    "slideshow": {
     "slide_type": "slide"
    },
    "tags": []
   },
   "source": [
    "### Surprise 3\n",
    "\n",
    "#### Maths says...\n",
    "$$(a + b) + c = a + (b + c)$$\n",
    "\n",
    "#### Computer says..."
   ]
  },
  {
   "cell_type": "code",
   "execution_count": null,
   "id": "647ffb91",
   "metadata": {
    "slideshow": {
     "slide_type": ""
    },
    "tags": []
   },
   "outputs": [],
   "source": [
    "a = 1e16\n",
    "b = -1e16\n",
    "c = 1.0\n",
    "\n",
    "print('Associativity works:', (a + b) + c == a + (b + c))"
   ]
  },
  {
   "cell_type": "code",
   "execution_count": null,
   "id": "dd133467",
   "metadata": {
    "slideshow": {
     "slide_type": ""
    },
    "tags": []
   },
   "outputs": [],
   "source": [
    "print(\"(a + b) + c = \", (a + b) + c)\n",
    "print(\"a + (b + c) = \", a + (b + c))"
   ]
  },
  {
   "cell_type": "markdown",
   "id": "07bd476c",
   "metadata": {
    "slideshow": {
     "slide_type": "slide"
    },
    "tags": []
   },
   "source": [
    "### Surprise 4\n",
    "\n",
    "#### Maths says...\n",
    "$$1.000000\\mathbf{1} - 1.0000000 = 0.000001 = 10^{-7}$$\n",
    "\n",
    "#### Computer says..."
   ]
  },
  {
   "cell_type": "code",
   "execution_count": null,
   "id": "a107e279",
   "metadata": {
    "slideshow": {
     "slide_type": ""
    },
    "tags": []
   },
   "outputs": [],
   "source": [
    "a = 1.0000001\n",
    "b = 1.0000000\n",
    "\n",
    "print(\"a - b == 1e-7:\", a - b == 1e-7)"
   ]
  },
  {
   "cell_type": "code",
   "execution_count": null,
   "id": "b0687737",
   "metadata": {
    "slideshow": {
     "slide_type": ""
    },
    "tags": []
   },
   "outputs": [],
   "source": [
    "print(\"a - b =\", a - b)"
   ]
  },
  {
   "cell_type": "markdown",
   "id": "01703fd5",
   "metadata": {
    "slideshow": {
     "slide_type": "slide"
    },
    "tags": []
   },
   "source": [
    "### Surprise 5\n",
    "\n",
    "#### Maths says...\n",
    "$$a \\times b = \\underbrace{b + b + ... + b}_{\\text{a times}}$$\n",
    "\n",
    "#### Computer says..."
   ]
  },
  {
   "cell_type": "code",
   "id": "f29504e6",
   "metadata": {
    "slideshow": {
     "slide_type": ""
    },
    "tags": [],
    "ExecuteTime": {
     "end_time": "2024-10-16T08:40:21.496980Z",
     "start_time": "2024-10-16T08:40:21.492687Z"
    }
   },
   "source": [
    "a = 100\n",
    "b = 0.1\n",
    "\n",
    "s = 0\n",
    "for _ in range(a):\n",
    "    s += b\n",
    "\n",
    "print(\"a * b == b + b + b +...:\", a * b == s)"
   ],
   "outputs": [
    {
     "name": "stdout",
     "output_type": "stream",
     "text": [
      "a * b == b + b + b +...: False\n"
     ]
    }
   ],
   "execution_count": 1
  },
  {
   "cell_type": "code",
   "id": "0542434c",
   "metadata": {
    "slideshow": {
     "slide_type": ""
    },
    "tags": [],
    "ExecuteTime": {
     "end_time": "2024-10-16T08:40:34.652591Z",
     "start_time": "2024-10-16T08:40:34.650149Z"
    }
   },
   "source": [
    "print(\"a * b =\", a * b)\n",
    "print(\"b + b + b + b + ...=\", s)"
   ],
   "outputs": [
    {
     "name": "stdout",
     "output_type": "stream",
     "text": [
      "a * b = 10.0\n",
      "b + b + b + b + ...= 9.99999999999998\n"
     ]
    }
   ],
   "execution_count": 2
  },
  {
   "cell_type": "markdown",
   "id": "4071856d",
   "metadata": {
    "slideshow": {
     "slide_type": "slide"
    },
    "tags": []
   },
   "source": [
    "### Maths says yes, but...\n",
    "\n",
    "<div>\n",
    "<center>\n",
    "    <img src=\"images/computer-says-no.jpeg\" width=\"700\" alt=\"Computer says no\" />\n",
    "</center>\n",
    "</div>\n",
    "\n",
    "[Little Britain: https://www.youtube.com/watch?v=0n_Ty_72Qds]"
   ]
  },
  {
   "cell_type": "markdown",
   "id": "92f4ffee",
   "metadata": {
    "cell_style": "center",
    "slideshow": {
     "slide_type": "slide"
    },
    "tags": []
   },
   "source": [
    "### Floating point number (in decimal representation)\n",
    "\n",
    "$$x = \\underbrace{28\\,763}_\\text{integer part}.\\overbrace{437}^\\text{fractional part}$$\n",
    "\n",
    "- Integer part:\n",
    "\n",
    "$$\n",
    "\\begin{split}\n",
    "28\\,763 & = 20\\,000 + 8\\,000 + 700 + 60 + 3 \\\\\n",
    "        & = 2 \\times 10\\,000 + 8 \\times 1\\,000 + 7 \\times 100 + 6 \\times 10 + 3 \\times 1 \\\\\n",
    "        & = \\underbrace{2 \\times 10^{4}} + \\underbrace{8 \\times 10^{3}} + \\underbrace{7 \\times 10^{2}} + \\underbrace{6 \\times 10^{1}} + \\underbrace{3 \\times 10^{0}}\n",
    "\\end{split}\n",
    "$$\n",
    "\n",
    "- Fractional part:\n",
    "\n",
    "$$\n",
    "\\begin{split}\n",
    "0.437 & = \\frac{4}{10} + \\frac{3}{100} + \\frac{7}{1\\,000}\\\\\n",
    "      & = 4 \\times \\frac{1}{10} + 3 \\times \\frac{1}{100} + 7 \\times \\frac{1}{1\\,000}\\\\\n",
    "      & = \\underbrace{4 \\times 10^{-1}} + \\underbrace{3 \\times 10^{-2}} + \\underbrace{7 \\times 10^{-3}}\n",
    "\\end{split}\n",
    "$$"
   ]
  },
  {
   "cell_type": "markdown",
   "id": "f62b8cca",
   "metadata": {
    "slideshow": {
     "slide_type": "slide"
    },
    "tags": []
   },
   "source": [
    "### Floating point number (in decimal representation)\n",
    "\n",
    "$$x = \\underbrace{28\\,763}_\\text{integer part}.\\overbrace{437}^\\text{fractional part}$$\n",
    "\n",
    "$$\n",
    "\\underbrace{a_{n}a_{n-1}\\ldots a_1 a_0}_{\\text{integer part}} \\,\\,.\\,\\, \\overbrace{b_{1} b_{2} b_{3} \\ldots}^{\\text{fractional part}} = \\underbrace{\\sum_{i=0}^{n} a_{i} \\times 10^{i}}_{\\text{integer part}} + \\overbrace{\\sum_{i=1}^{\\infty} b_{i} \\times 10^{-i}}^{\\text{fractional part}}\n",
    "$$\n",
    "\n",
    "- Digits in base-10: $a_{i}, b_{i} \\in \\{0, 1, 2, \\ldots, 9\\}$\n",
    "- Integer part has a finite number of digits.\n",
    "- Fractional part can have:\n",
    "  - **finite** number of digits - rational numbers.\n",
    "  $$\\frac{1}{4} = 0.25$$\n",
    "  - **infinite** number of digits, e.g. irrational numbers ($\\pi$, $e$...) or\n",
    "  $$\\frac{1}{3}=0.333333333333....$$"
   ]
  },
  {
   "cell_type": "markdown",
   "id": "ba58a731",
   "metadata": {
    "slideshow": {
     "slide_type": "slide"
    },
    "tags": []
   },
   "source": [
    "### Floating point number (in binary representation)\n",
    "\n",
    "$$x = (\\underbrace{1\\,011}_{\\text{integer part}}.\\overbrace{101}^{\\text{fractional part}})_{2}$$\n",
    "\n",
    "- **Note:** We write $(1\\,011.101)_{2}$ ($2$ in subscript) to prevent us from interpreting the number as decimal (*one thousand eleven point one zero one*)\n",
    "\n",
    "- Integer part:\n",
    "$$\n",
    "\\begin{split}\n",
    "(1\\,011)_{2} & = \\overbrace{1 \\times 2^{3}} + \\overbrace{0 \\times 2^{2}} + \\overbrace{1 \\times 2^{1}} + \\overbrace{1 \\times 2^{0}}\\\\\n",
    "             & = 1 \\times 8 + 0 \\times 4 + 1 \\times 2 + 1 \\times 1\\\\\n",
    "             & = 8 + 0 + 2 + 1\\\\\n",
    "             & = (11)_{10}\n",
    "\\end{split}\n",
    "$$\n",
    "\n",
    "- Fractional part:\n",
    "$$\n",
    "\\begin{split}\n",
    "(0.101)_{2} & = 1 \\times 2^{-1} + 0 \\times 2^{-2} + 1 \\times 2^{-3}\\\\\n",
    "            & = 1 \\times \\frac{1}{2} + 0 \\times \\frac{1}{4} + 1 \\times \\frac{1}{8}\\\\\n",
    "            & = 0.5 + 0 + 0.125\\\\\n",
    "            & = (0.625)_{10}\n",
    "\\end{split}\n",
    "$$"
   ]
  },
  {
   "cell_type": "markdown",
   "id": "bed354fe",
   "metadata": {
    "slideshow": {
     "slide_type": "slide"
    },
    "tags": []
   },
   "source": [
    "### Floating point number (in binary representation)\n",
    "\n",
    "$$\n",
    "\\left(\\underbrace{a_{n} a_{n-1}\\ldots a_1 a_0}_{\\text{integer part}} \\,\\, . \\,\\, \\overbrace{\\, b_{1} b_{2} b_{3} \\ldots}^{\\text{fractional part}}\\right)_{2} = \\underbrace{\\sum_{i=0}^{n} a_{i} \\times 2^{i}}_{\\text{integer part}} + \\overbrace{\\sum_{i=1}^{\\infty} b_{i} \\times 2^{-i}}^{\\text{fractional part}}\n",
    "$$\n",
    "\n",
    "- Digits in base-2: $a_{i}, b_{i} \\in \\{0, 1\\}$\n",
    "- Integer part has a finite number of digits. Fractional part can have finite or infinite number of digits.\n",
    "- In integer part, we call:\n",
    "  - $a_{0}$: Least Significant Bit (LSB)\n",
    "  - $a_{n}$: Most Significant Bit (MSB)\n",
    "- **Binary** number, but we still call it a **decimal point**? If you're picky, call it a **radix point**."
   ]
  },
  {
   "cell_type": "markdown",
   "id": "b6aee2a4",
   "metadata": {
    "slideshow": {
     "slide_type": "slide"
    },
    "tags": []
   },
   "source": [
    "### Floating point number (in base-$\\beta$ representation)\n",
    "\n",
    "$$\n",
    "\\left(\\underbrace{a_{n} a_{n-1}\\ldots a_1 a_0}_{\\text{integer part}} \\,\\, . \\,\\, \\overbrace{\\, b_{1} b_{2} b_{3} \\ldots}^{\\text{fractional part}}\\right)_{\\beta} = \\underbrace{\\sum_{i=0}^{n} a_{i} \\times \\beta^{i}}_{\\text{integer part}} + \\overbrace{\\sum_{i=1}^{\\infty} b_{i} \\times \\beta^{-i}}^{\\text{fractional part}}\n",
    "$$\n",
    "\n",
    "| base ($\\beta$) | name | digits |\n",
    "| - | - | - |\n",
    "| 2 | binary | 0, 1 |\n",
    "| 8 | octal | 0, 1, 2, 3, 4, 5, 6, 7 |\n",
    "| 10 | decimal | 0, 1, 2, 3, 4, 5, 6, 7, 8, 9 |\n",
    "| 16 | hexadecimal | 0, 1, 2, ..., 9, a, b, c, d, e, f |"
   ]
  },
  {
   "cell_type": "markdown",
   "id": "2a354f3f",
   "metadata": {
    "slideshow": {
     "slide_type": "slide"
    },
    "tags": []
   },
   "source": [
    "## Decimal to binary conversion\n",
    "\n",
    "### Step 1: Convert the integer part\n",
    "\n",
    "1. **Divide the integer part** of the decimal number by 2.\n",
    "2. **Record the remainder** (0 or 1) as the **least significant bit (LSB)**.\n",
    "3. **Repeat the process**: divide the quotient from the previous step by 2 and record the remainder until the quotient becomes 0.\n",
    "4. **The binary representation** of the integer is the remainders read from **bottom to top** - from MSB to LSB.\n",
    "\n",
    "#### **Example: Convert $(11)_{10}$ to binary**\n",
    "\n",
    "| calculation       | quotient | remainder |\n",
    "| ----------------- | -------- | --------- |\n",
    "| $11 \\div 2$      | $5$     | $1$ (LSB)      |\n",
    "| $5 \\div 2$       | $2$     | $1$       |\n",
    "| $2 \\div 2$       | $1$     | $0$       |\n",
    "| $1 \\div 2$       | $0$ (stop)     | $1$ (MSB)       |\n",
    "\n",
    "- We read the remainders from bottom to top: $1$ (MSB), $0$, $1$, $1$ (LSB):\n",
    "\n",
    "\n",
    "$$(11)_{10} = (1011)_2$$"
   ]
  },
  {
   "cell_type": "markdown",
   "id": "28ca5f88",
   "metadata": {
    "slideshow": {
     "slide_type": "slide"
    },
    "tags": []
   },
   "source": [
    "### Step 2: Convert the fractional part\n",
    "\n",
    "1. **Multiply the fractional part** of the decimal number by 2.\n",
    "2. Record the **integer part** (0 or 1) of the result as the **next bit** in the binary representation.\n",
    "3. **Repeat the process**: multiply the fractional part of the result by 2 and record the integer part.\n",
    "4. **Stop** when the fractional part becomes 0 (or continue for a certain number of bits if it does not terminate).\n",
    "\n",
    "#### **Example: Convert $(0.625)_{10}$ to binary**\n",
    "\n",
    "| calculation         | result         | integer part | fractional part |\n",
    "| ------------------- | -------------- | ------------ | ------------------------- |\n",
    "| $0.625 \\times 2$    | $1.25$        | $1$          | $0.25$                   |\n",
    "| $0.25 \\times 2$     | $0.50$        | $0$          | $0.50$                   |\n",
    "| $0.5 \\times 2$      | $1.0$         | $1$          | $0.0$                    |\n",
    "\n",
    "Thus, 0.625 in binary, when we read the integer parts from top to bottom:\n",
    "$$(0.625)_{10} = (0.101)_{2}$$"
   ]
  },
  {
   "cell_type": "markdown",
   "id": "38d3f5fc",
   "metadata": {
    "slideshow": {
     "slide_type": "slide"
    }
   },
   "source": [
    "$$(11)_{10} = (1011)_2$$\n",
    "\n",
    "$$+$$\n",
    "\n",
    "$$(0.625)_{10} = (0.101)_{2}$$\n",
    "\n",
    "$$\\downarrow$$\n",
    "\n",
    "$$(11.625)_{10} = (1011.101)_{2}$$"
   ]
  },
  {
   "cell_type": "markdown",
   "id": "e501ff3c",
   "metadata": {
    "slideshow": {
     "slide_type": "slide"
    }
   },
   "source": [
    "### General base conversion\n",
    "\n",
    "#### Integer part\n",
    "\n",
    "- We can write an integer $x$ in the nested polynomial form:\n",
    "\n",
    "$$\n",
    "\\begin{split}\n",
    "x &= (c_{n}c_{n-1} \\ldots c_{1}c_{0})_{\\beta} \\\\\n",
    "  &= \\sum_{i=0}^{n} c_{i} \\times \\beta^{i} \\\\\n",
    "  &= c_{0} + \\beta(c_{1} + \\beta (c_{2} + \\beta (\\ldots)))\n",
    "\\end{split}\n",
    "$$\n",
    "\n",
    "- Dividing $x$ by $\\beta$ results in remainder $c_{0}$ and quotient $c_{1} + \\beta (c_{2} + \\beta (\\ldots))$.\n",
    "- By repeating the division we obtain digits $c_{0}$, $c_{1}$, $c_{2}$, etc."
   ]
  },
  {
   "cell_type": "markdown",
   "id": "b5847740",
   "metadata": {
    "slideshow": {
     "slide_type": "slide"
    }
   },
   "source": [
    "#### Fractional part\n",
    "\n",
    "- A real number $x < 1$ in base-$\\beta$ can be written as:\n",
    "$$\n",
    "\\begin{split}\n",
    "x &= (0.c_{1}c_{2}c_{3}\\ldots)_{\\beta} \\\\\n",
    "  &= \\sum_{i=1}^{\\infty}c_{i}\\beta^{-i}\n",
    "\\end{split}\n",
    "$$\n",
    "\n",
    "- If we multiply $x$ by $\\beta$, we get:\n",
    "$$\n",
    "\\beta x = (c_{1}.c_{2}c_{3}\\ldots)_{\\beta}\n",
    "$$\n",
    "\n",
    "- Digit $c_{1}$ we get by taking the integer part of $\\beta x$.\n",
    "- By repeating the multiplication by $\\beta$ we obtain all decimal digits (if the number has a finite representation) or until we obtain enough significant digits."
   ]
  },
  {
   "cell_type": "markdown",
   "id": "ca87220c",
   "metadata": {
    "slideshow": {
     "slide_type": "slide"
    },
    "tags": []
   },
   "source": [
    "### Scientific notation\n",
    "\n",
    "- Instead of splitting a float into the integer and fractional parts, scientific notation is a way of representing a number in the form:\n",
    "\n",
    "$$x = \\pm \\,\\text{mantissa} \\times 10^{\\text{exponent}}$$\n",
    "\n",
    "$$\n",
    "\\begin{split}\n",
    "37541.23 &= +\\overbrace{37.54123}^{\\text{mantissa}} \\times 10^{\\overbrace{3}^{\\text{exponent}}}\\\\ \n",
    "         &= +3.754123 \\times 10^{4}\\\\\n",
    "         &= +0.3754123 \\times 10^{5}\n",
    "\\end{split}\n",
    "$$\n",
    "\n",
    "The scientific notation is **not unique**."
   ]
  },
  {
   "cell_type": "markdown",
   "id": "875104c1",
   "metadata": {
    "slideshow": {
     "slide_type": "slide"
    },
    "tags": []
   },
   "source": [
    "### Normalised scientific notation\n",
    "\n",
    "- To ensure uniqueness, we define **normalised** scientific notation.\n",
    "\n",
    "$$x = \\pm\\overbrace{d_{1}.d_{2}d_{3}\\ldots}^{\\text{mantissa}\\,\\,m} \\times 10^{e}, \\quad d_{1} \\ne 0$$\n",
    "\n",
    "- The notation is normalised if mantissa $m = d_{1}.d_{2}d_{3}\\ldots$ is $1 \\le m < 10$.\n",
    "- We keep moving the decimal point until we have only one non-zero digit in the integer part.\n",
    "\n",
    "$$\n",
    "\\begin{split}\n",
    "37541.23 &= \\overbrace{+3.754123 \\times 10^{4}}^{\\text{normalised}}\\\\ \n",
    "         &= \\underbrace{+0.3754123 \\times 10^{5}}_{\\text{not normalised}}\n",
    "\\end{split}\n",
    "$$"
   ]
  },
  {
   "cell_type": "markdown",
   "id": "8634867e",
   "metadata": {
    "slideshow": {
     "slide_type": "slide"
    },
    "tags": []
   },
   "source": [
    "### Normalised scientific notation (in decimal form)\n",
    "\n",
    "Any $x \\in \\mathbb{R}$ if $x \\ne 0$ can be written as:\n",
    "\n",
    "$$\n",
    "x = \\pm m \\times 10^{e}, \\quad 1 \\le m < 10,\\quad e \\in \\mathbb{N}\n",
    "$$\n",
    "\n",
    "| label | name |\n",
    "| - | - |\n",
    "| $\\pm$ | sign\n",
    "| $m$ | mantissa |\n",
    "| $e$ | exponent |"
   ]
  },
  {
   "cell_type": "markdown",
   "id": "f4903c78",
   "metadata": {
    "slideshow": {
     "slide_type": "slide"
    },
    "tags": []
   },
   "source": [
    "### Normalised scientific notation (in binary form)\n",
    "\n",
    "Any $x \\in \\mathbb{R}$ if $x \\ne 0$ can be written as:\n",
    "\n",
    "$$\n",
    "\\begin{split}\n",
    "x &= \\pm \\overbrace{b_{0}.b_{1}b_{2}\\ldots}^{\\text{mantissa}\\,\\,m} \\times 2^{e}\\\\\n",
    "  &= \\pm 1.b_{1}b_{2}\\ldots \\times 2^{e}\\\\\n",
    "  &= \\pm m \\times 2^{e}, \\quad 1 \\le m < 2\n",
    "\\end{split}\n",
    "$$\n",
    "\n",
    "- **Note**: Since $b_{0}$ can only be $1$, we write $m = 1.b_{1}b_{2}\\ldots$.\n",
    "\n",
    "| label | name |\n",
    "| - | - |\n",
    "| $\\pm$ | sign\n",
    "| $m$ | mantissa |\n",
    "| $e$ | exponent |"
   ]
  },
  {
   "cell_type": "markdown",
   "id": "ca7e2413",
   "metadata": {
    "slideshow": {
     "slide_type": "slide"
    },
    "tags": []
   },
   "source": [
    "## IEEE-754\n",
    "\n",
    "- Earlier, computer manufacturers developed their own floating-point number representations.\n",
    "    - There were inconsistencies in results between different machines.\n",
    "    - The result of $a + b$ was different of different machines. 🤯😵‍💫\n",
    "- In early 1980s, IEEE (Institute of Electrical and Electronics Engineers) established the floating-point standard IEEE-754."
   ]
  },
  {
   "cell_type": "markdown",
   "id": "2188fcd2",
   "metadata": {
    "slideshow": {
     "slide_type": "slide"
    },
    "tags": []
   },
   "source": [
    "### To save a float, we need...\n",
    "\n",
    "Normalised scientific notation:\n",
    "\n",
    "$$\n",
    "\\begin{split}\n",
    "x &= \\pm \\overbrace{1.b_{1}b_{2}\\ldots}^{\\text{mantissa}\\,\\,m} \\times 2^{e}\\\\\n",
    "  &= (-1)^{s} \\times 1.b_{1}b_{2}\\ldots \\times 2^{e}\\\\\n",
    "\\end{split}\n",
    "$$\n",
    "\n",
    "Practically, we to save a float, we have to save three integers:\n",
    "\n",
    "| label | name |\n",
    "| - | - |\n",
    "| $s$ | sign |\n",
    "| $m$ | mantissa |\n",
    "| $e$ | exponent |\n",
    "\n",
    "Let's say we find the following array of bits under the microscope:\n",
    "\n",
    "$$\\left(\\overbrace{1}^{\\text{sign}} \\overbrace{10000000011}^{\\text{exponent}}  \\overbrace{1000111111001100101000101101101101100001101110110000}^{\\text{mantissa}}\\right)_{2} = (????)_{10}$$"
   ]
  },
  {
   "cell_type": "markdown",
   "id": "80c4f0a1",
   "metadata": {
    "slideshow": {
     "slide_type": "slide"
    },
    "tags": []
   },
   "source": [
    "### IEEE-754 levels of precision\n",
    "\n",
    "| precision   | bits | sign | exponent | mantissa |\n",
    "| ----------- | ---- | ---- | -------- | -------- |\n",
    "| single      | 32   | 1    | 8        | 23       |\n",
    "| double      | 64   | 1    | 11       | 52       |\n",
    "| long double | 80   | 1    | 15       | 64       |\n",
    "\n",
    "**Do not memorise!** We do not have to know all the numbers, but we need to be aware of the basics."
   ]
  },
  {
   "cell_type": "markdown",
   "id": "9c5a4d88",
   "metadata": {
    "slideshow": {
     "slide_type": "slide"
    },
    "tags": []
   },
   "source": [
    "### Single precision (32 bit)\n",
    "\n",
    "According to IEEE-754, a single precission float is represented as:\n",
    "\n",
    "$$x = (-1)^{s} \\times (1.f)_{2} \\times 2^{e-127}, \\quad 1.f = 1.b_{1}b_{2}b_{3}...$$\n",
    "\n",
    "We need to save three integers: $s$, $f$, and $e$.\n",
    "\n",
    "To keep things shorter, we write $1.f$ instead of $1.b_{1}b_{2}...$. Therefore, think about $f$ as an array of $n$ bits."
   ]
  },
  {
   "cell_type": "markdown",
   "id": "c6fbdd73",
   "metadata": {
    "slideshow": {
     "slide_type": "slide"
    },
    "tags": []
   },
   "source": [
    "### Single precision (32 bit) - sign bit\n",
    "\n",
    "$$x = (-1)^{s} \\times (1.f)_{2} \\times 2^{e-127}$$\n",
    "\n",
    "- 1 bit for the sign $s$\n",
    "    - $s=0$ ($x > 0$)\n",
    "    $$(-1)^0 = 1$$\n",
    "    - $s=1$ ($x < 0$)\n",
    "    $$(-1)^1 = -1$$ "
   ]
  },
  {
   "cell_type": "markdown",
   "id": "3117e1b6",
   "metadata": {
    "slideshow": {
     "slide_type": "slide"
    },
    "tags": []
   },
   "source": [
    "### Single precision (32 bit) - exponent\n",
    "\n",
    "$$x = (-1)^{s} \\times (1.f)_{2} \\times 2^{e-127}$$\n",
    "\n",
    "- 8 bits for the exponent $e$\n",
    "    - $(0)_{10} = (00\\,000\\,000)_{2} < e < (11\\,111\\,111)_{2} = (255)_{10}$\n",
    "    - values $0$ and $255$ are reserved for $\\pm 0$ and $\\pm \\infty$.\n",
    "    - Instead of using an extra bit for the sign of the exponent, IEEE-754 shifts $e$ by 127 to allow negative exponents (small $x$).\n",
    "    $$-126 \\le e-127 \\le 127$$"
   ]
  },
  {
   "cell_type": "markdown",
   "id": "af1a1e30",
   "metadata": {
    "slideshow": {
     "slide_type": "slide"
    },
    "tags": []
   },
   "source": [
    "### Single precision (32 bit) - mantissa\n",
    "\n",
    "$$x = (-1)^{s} \\times (1.f)_{2} \\times 2^{e-127}$$    \n",
    "    \n",
    "- 23 bits for the matissa (aka significand) $m = 1.f$\n",
    "  - $m = 1.f = 1.b_{1}b_{2}b_{3}...b_{23}$\n",
    "  - Mantissa is limited by:\n",
    "    $$(1.00000000000000000000000)_{2} = 1 \\le 1.f \\le (1.11111111111111111111111)_{2} = 2 - 2^{-23}$$\n"
   ]
  },
  {
   "cell_type": "markdown",
   "id": "b9037ffa",
   "metadata": {
    "slideshow": {
     "slide_type": "slide"
    },
    "tags": []
   },
   "source": [
    "### What is the largest number?\n",
    "\n",
    "$$x = (-1)^{s} \\times (1.f)_{2} \\times 2^{e-127}$$   \n",
    "\n",
    "- $s = 0$ (positive)\n",
    "- $m = 1.f = (1.11111111111111111111111)_{2} = 2 - 2^{-23}$\n",
    "- $e = (11111110)_{2} = 254$ ($255$ is reserved for special case infinity)\n",
    "\n",
    "$$(-1)^{0} \\times (2 - 2^{-23}) \\times 2^{254-127} \\approx 2^{128} \\approx 3.4 \\times 10^{38}$$"
   ]
  },
  {
   "cell_type": "markdown",
   "id": "54e38020",
   "metadata": {
    "slideshow": {
     "slide_type": "slide"
    },
    "tags": []
   },
   "source": [
    "### What is the smallest positive number?\n",
    "\n",
    "$$x = (-1)^{s} \\times (1.f)_{2} \\times 2^{e-127}$$   \n",
    "\n",
    "- $s = 0$ (positive)\n",
    "- $m = 1.f = (1.00000000000000000000000)_{2} = 1$\n",
    "- $e = (00000001)_{2} = 1$ ($0$ is reserved for special case zero)\n",
    "\n",
    "$$(-1)^{0} \\times 1 \\times 2^{1-127} \\approx 2^{-126} \\approx 1.17 \\times 10^{-38}$$"
   ]
  },
  {
   "cell_type": "markdown",
   "id": "4c8ad31b",
   "metadata": {},
   "source": [
    "### For example...\n",
    "\n",
    "$$\\left(\\overbrace{1}^{\\text{sign}} \\overbrace{10000001}^{\\text{exponent}}  \\overbrace{10110000000000000000000}^{\\text{mantissa}}\\right)_{2} = -(6.75)_{10}$$\n",
    "\n",
    "- sign: $s=1$\n",
    "- exponent: $e = (10000001)_{2} = (129)_{10}$\n",
    "- matissa: $m = (1.\\mathbf{10110000000000000000000})_{2}$\n",
    "\n",
    "$$x = (-1)^{s} \\times (1.f)_{2} \\times 2^{e-127}$$"
   ]
  },
  {
   "cell_type": "markdown",
   "id": "417de0be",
   "metadata": {
    "slideshow": {
     "slide_type": "slide"
    },
    "tags": []
   },
   "source": [
    "### Machine $\\epsilon$\n",
    "\n",
    "- The number of real numbers we can represent exactly is finite - we call those numbers **machine numbers**.\n",
    "- The floating-point machine number corresponding to $x$, we denote as $\\mathrm{fl}(x)$.\n",
    "- Machine $\\epsilon$ is the smallest number such that:\n",
    "\n",
    "$$\\mathrm{fl}(1 + \\epsilon) \\ne 1$$\n",
    "\n",
    "- For single precision, the machine $\\epsilon$ is:\n",
    "\n",
    "$$\\epsilon = \\overbrace{(1.00000000000000000000001)_{2}}^{1+\\epsilon} - \\overbrace{(1.00000000000000000000000)_{2}}^{1} = \\overbrace{2^{-23}}^{\\epsilon} \\approx 1.19 \\times 10^{-7}$$"
   ]
  },
  {
   "cell_type": "markdown",
   "id": "02b97ca0",
   "metadata": {
    "slideshow": {
     "slide_type": "slide"
    },
    "tags": []
   },
   "source": [
    "### Precision and resolution\n",
    "\n",
    "- We can have a maximum of $23$ bits for the mantissa.\n",
    "- That means $2^{23}$ possible binary numbers.\n",
    "- $\\log_{10}(2^{23})\\approx 6.9$ - we can rely on 6 significant digits.\n",
    "- The **precision** is $p=6$.\n",
    "\n",
    "$$x = \\mathbf{5.312457}\\overbrace{9873459782349658}^{\\text{rubbish}}$$\n",
    "\n",
    "- **Resolution:** Sometimes, instead of precision $p$, we show **resolution**: $10^{-p} = 10^{-6}$."
   ]
  },
  {
   "cell_type": "markdown",
   "id": "98274594",
   "metadata": {
    "slideshow": {
     "slide_type": "slide"
    },
    "tags": []
   },
   "source": [
    "### We do not have to memorise that information..."
   ]
  },
  {
   "cell_type": "code",
   "execution_count": null,
   "id": "71a75200",
   "metadata": {
    "slideshow": {
     "slide_type": ""
    },
    "tags": []
   },
   "outputs": [],
   "source": [
    "import numpy as np\n",
    "\n",
    "single = np.finfo(np.float32)\n",
    "\n",
    "print('Single precision float')\n",
    "print(25*'-')\n",
    "print(f'Total size in bits: {single.bits}')\n",
    "print(f'Bits in mantissa: {single.nmant}')\n",
    "print(f'Bits in exponent: {single.nexp}')\n",
    "print(f'Largest number: {single.max}')\n",
    "print(f'Smallest number: {single.min}')\n",
    "print(f'Smallest positive number: {single.tiny}')\n",
    "print(f'Machine epsilon: {single.eps}')\n",
    "print(f'Precision: {single.precision}')\n",
    "print(f'Resolution: {single.resolution}')"
   ]
  },
  {
   "cell_type": "markdown",
   "id": "92cbe490",
   "metadata": {
    "slideshow": {
     "slide_type": "slide"
    },
    "tags": []
   },
   "source": [
    "### Double precision (64 bit)\n",
    "\n",
    "$$x = (-1)^{s} \\times (1.f)_{2} \\times 2^{e-1023}$$\n",
    "\n",
    "- 1 bit for the sign $s$\n",
    "    \n",
    "- 11 bits for the exponent $e$\n",
    "    - $0 < e < (11\\,111\\,111\\,111)_{2} = 2047$ (values $0$ and $2047$ are reserved for $\\pm 0$ and $\\pm \\infty$)\n",
    "    - $-1022 \\le e - 1023 \\le 1023$\n",
    " \n",
    "- 52 bits for mantissa $f$\n",
    "    $$(1.00\\ldots 00)_{2} = 1 \\le (1.f)_{2} \\le (1.11\\ldots 11)_{2} = 2 - 2^{-52}$$\n",
    "\n",
    "- Largest number: $(2 - 2^{-52}) \\times 2^{1023} \\approx 2^{1024} \\approx 1.8 \\times 10^{308}$\n",
    "- Smallest positive number: $1 \\times 2^{-1022} \\approx 2.2 \\times 10^{-308}$"
   ]
  },
  {
   "cell_type": "markdown",
   "id": "c7108da8",
   "metadata": {
    "slideshow": {
     "slide_type": "slide"
    },
    "tags": []
   },
   "source": [
    "### Double precision: machine $\\epsilon$, precision, and resolution\n",
    "\n",
    "- Machine $\\epsilon$:\n",
    "\n",
    "$$\\epsilon = 2^{-52} \\approx 2.22 \\times 10^{-16}$$\n",
    "\n",
    "- Precision: We can rely on $\\log_{10}(2^{53}) = 15.95$ significant digits.\n",
    "\n",
    "$$x = \\mathbf{5.31245775431986}\\overbrace{[9873459782349658]}^{\\text{rubbish}}$$\n",
    "\n",
    "- Resolution: $10^{-p} = 10^{-15}$."
   ]
  },
  {
   "cell_type": "markdown",
   "id": "fa9a1ba5-e569-4191-95a8-d0b0573191f5",
   "metadata": {
    "slideshow": {
     "slide_type": "slide"
    },
    "tags": []
   },
   "source": [
    "### Do not memorise...."
   ]
  },
  {
   "cell_type": "code",
   "execution_count": null,
   "id": "8efd3c81",
   "metadata": {
    "slideshow": {
     "slide_type": ""
    },
    "tags": []
   },
   "outputs": [],
   "source": [
    "double = np.finfo(np.float64)\n",
    "\n",
    "print('Single precision float')\n",
    "print(25*'-')\n",
    "print(f'Total size in bits: {double.bits}')\n",
    "print(f'Bits in mantissa: {double.nmant}')\n",
    "print(f'Bits in exponent: {double.nexp}')\n",
    "print(f'Machine epsilon: {double.eps}')\n",
    "print(f'Largest number: {double.max}')\n",
    "print(f'Smallest number: {double.min}')\n",
    "print(f'Smallest positive number: {double.tiny}')\n",
    "print(f'Precision: {double.precision}')\n",
    "print(f'Resolution: {double.resolution}')"
   ]
  },
  {
   "cell_type": "markdown",
   "id": "d9286863",
   "metadata": {
    "slideshow": {
     "slide_type": "slide"
    },
    "tags": []
   },
   "source": [
    "## Rounding\n",
    "\n",
    "Let's say we need to compute $a + b$. Since only machine numbers can be represented exactly, the result is\n",
    "\n",
    "$$\\text{fl}(\\,\\text{fl}(a) + \\text{fl}(b)\\,)$$\n",
    "$$$$\n",
    "$$$$\n",
    "$$$$\n",
    "\n",
    "<center>\n",
    "    <img src=\"images/rounding.png\" alt=\"Rounding\" width=\"1500\"/>\n",
    "</center>"
   ]
  },
  {
   "cell_type": "markdown",
   "id": "5abc45e0",
   "metadata": {
    "slideshow": {
     "slide_type": "slide"
    },
    "tags": []
   },
   "source": [
    "### Overflow and underflow\n",
    "\n",
    "- How can we represent $x = 2^{68426539}$ or $x = 2^{-98723640}$?\n",
    "    -  We can't. This attempt results in overflow or underflow.\n",
    "\n",
    "- **Underflow** is often rounded to zero.\n",
    "- **Overflow** is handled differently by different systems. In Python, we get infinity `inf`."
   ]
  },
  {
   "cell_type": "code",
   "execution_count": null,
   "id": "8d0d0018",
   "metadata": {
    "slideshow": {
     "slide_type": ""
    },
    "tags": []
   },
   "outputs": [],
   "source": [
    "huuuuuuge_number = 1e68426539\n",
    "super_super_small_number = 1e-98723640\n",
    "\n",
    "print(f'{huuuuuuge_number = }')\n",
    "print(f'{super_super_small_number = }')"
   ]
  },
  {
   "cell_type": "markdown",
   "id": "a39af8df",
   "metadata": {
    "slideshow": {
     "slide_type": "slide"
    }
   },
   "source": [
    "### Chopping and rounding\n",
    "\n",
    "- For simplicity, here, we assume single precision floating-point numbers.\n",
    "- Let us say we want to represent $x$ with its nearest machine number $\\mathrm{fl}(x)$:\n",
    "\n",
    "$$x = (1.b_{1}b_{2}b_{3}b_{4}\\ldots)_{2} \\times 2^{e}$$\n",
    "\n",
    "- How large can the error be?\n",
    "\n",
    "- **Chopping:** We can chop excess bits $b_{24}b_{25}\\ldots$ and the machine number is then:\n",
    "\n",
    "$$x_{-} = (1.b_{1}b_{2}b_{3}\\ldots b_{23})_{2} \\times 2^{e}$$\n",
    "\n",
    "- **Rounding:** $x_{+}$ is just to the right and it is obtained by rounding up. We add one unit to $b_{24}$.\n",
    "\n",
    "$$x_{+} = [(1.b_{1}b_{2}b_{3}\\ldots b_{23})_{2} + 2^{-24}] \\times 2^{e}$$\n",
    "\n",
    "- We now choose the number which is closer to $x$ as its machine representation $\\mathrm{fl}(x)$."
   ]
  },
  {
   "cell_type": "markdown",
   "id": "e70e4210",
   "metadata": {
    "slideshow": {
     "slide_type": "slide"
    }
   },
   "source": [
    "### Absolute and relative error\n",
    "\n",
    "- **Absolute error**:\n",
    "\n",
    "$$|x - \\mathrm{fl}(x)| \\le \\frac{1}{2}|x_{+} - x_{-}| = \\frac{1}{2} \\times 2^{-24} \\times 2^{e} = 2^{-25+e}$$\n",
    "\n",
    "- **Relative error**:\n",
    "\n",
    "$$\\frac{|x - \\mathrm{fl}(x)|}{|x|} \\le \\frac{2^{-25 + e}}{(1.b_{1}b_{2}b_{3}\\ldots)_{2} \\times 2^{e}} \\le \\frac{2^{-25}}{1/2} = 2^{-24} = u$$\n",
    "\n",
    "- $u$ is the **unit round-off error**.\n",
    "    - It is $2^{-k}$ where $k$ is the number of bits in matissa plus the hidden bit (23 + 1 for single precision)."
   ]
  },
  {
   "cell_type": "markdown",
   "id": "c8b7ae7f",
   "metadata": {},
   "source": [
    "### Floating point addition\n",
    "\n",
    "1. **Align Exponents**: Adjust the exponents so they are the same, shifting the decimal point as necessary.\n",
    "\n",
    "- Example: $3.25 \\times 10^1$ + $1.75 \\times 10^0$\n",
    "- Shift $1.75 \\times 10^0$ to $0.175 \\times 10^1$\n",
    "\n",
    "2. **Add the Mantissas**: Keep the exponent constant, and add the mantissas.\n",
    "\n",
    "- Example: $3.25 + 0.175 = 3.425$\n",
    "\n",
    "3. **Normalize the Result**: Adjust the result so that there’s only one non-zero digit before the decimal.\n",
    "\n",
    "- Example: $3.425 \\times 10^1$ is already normalized.\n",
    "\n",
    "4. **Round the Result (if needed)**: Round to fit within the number of digits supported by the floating-point format."
   ]
  },
  {
   "cell_type": "markdown",
   "id": "8c4e523b",
   "metadata": {},
   "source": [
    "### Error in arithmetic operations\n",
    "\n",
    "- For any $x \\in \\mathbb{R}$ within the range of the computer:\n",
    "\n",
    "$$\\frac{|x - \\mathrm{fl}(x)|}{x} \\le u$$\n",
    "\n",
    "$$\\mathrm{fl}(x) = x(1 + \\delta), \\quad |\\delta| \\le u$$\n",
    "\n",
    "- If $\\odot$ is any operation ($+, -, \\times, /$), and we assume that $x \\odot y$ is correctly computed, normalised, and finally rounded:\n",
    "\n",
    "$$\\mathrm{fl}(x \\odot y) = (x \\odot y)(1 + \\delta)$$\n",
    "\n",
    "- More precisely:\n",
    "\n",
    "$$\\mathrm{fl}(\\mathrm{fl}(x) \\odot \\mathrm{fl}(y))$$"
   ]
  },
  {
   "cell_type": "markdown",
   "id": "75897334",
   "metadata": {
    "slideshow": {
     "slide_type": "slide"
    },
    "tags": []
   },
   "source": [
    "## Let's revisit the surprises"
   ]
  },
  {
   "cell_type": "markdown",
   "id": "78b8674c",
   "metadata": {
    "slideshow": {
     "slide_type": "slide"
    },
    "tags": []
   },
   "source": [
    "### Surprise 1\n",
    "\n",
    "#### Maths says...\n",
    "For any $x \\in \\mathbb{R}$ if $x \\ne 0$\n",
    "$$1 + x \\ne 1$$\n",
    "\n",
    "#### Computer says..."
   ]
  },
  {
   "cell_type": "code",
   "execution_count": null,
   "id": "18c93b83",
   "metadata": {
    "slideshow": {
     "slide_type": ""
    },
    "tags": []
   },
   "outputs": [],
   "source": [
    "x = 1e-16\n",
    "\n",
    "print(1 + x != 1)"
   ]
  },
  {
   "cell_type": "markdown",
   "id": "1dc8893e",
   "metadata": {
    "slideshow": {
     "slide_type": "slide"
    },
    "tags": []
   },
   "source": [
    "### Why?\n",
    "\n",
    "- $x$ is smaller than the machine epsilon $x < \\epsilon$\n",
    "- $x$ is \"too small to make a difference\"."
   ]
  },
  {
   "cell_type": "code",
   "execution_count": null,
   "id": "b8a6072e",
   "metadata": {
    "slideshow": {
     "slide_type": ""
    },
    "tags": []
   },
   "outputs": [],
   "source": [
    "double = np.finfo(np.float64)\n",
    "print(f'{x = }')\n",
    "print(f'epsilon = {double.eps}')"
   ]
  },
  {
   "cell_type": "code",
   "execution_count": null,
   "id": "d3e687e9",
   "metadata": {
    "slideshow": {
     "slide_type": ""
    },
    "tags": []
   },
   "outputs": [],
   "source": [
    "x = 3e-16  # now, it's larger than machine epsilon\n",
    "\n",
    "print(1 + x != 1)"
   ]
  },
  {
   "cell_type": "markdown",
   "id": "43bcdb51",
   "metadata": {
    "slideshow": {
     "slide_type": "slide"
    },
    "tags": []
   },
   "source": [
    "### Surprise 2\n",
    "\n",
    "#### Maths says...\n",
    "$$\\frac{1}{10} + \\frac{2}{10} = \\frac{3}{10}$$\n",
    "\n",
    "$$0.1 + 0.2 = 0.3$$\n",
    "\n",
    "#### Computer says..."
   ]
  },
  {
   "cell_type": "code",
   "execution_count": null,
   "id": "67252dec",
   "metadata": {
    "slideshow": {
     "slide_type": ""
    },
    "tags": []
   },
   "outputs": [],
   "source": [
    "print(0.1 + 0.2 == 0.3)"
   ]
  },
  {
   "cell_type": "markdown",
   "id": "a4fef634",
   "metadata": {
    "slideshow": {
     "slide_type": "slide"
    },
    "tags": []
   },
   "source": [
    "### Why?\n",
    "\n",
    "- We round to the closest machine number:\n",
    "\n",
    "$$\\text{fl}(\\,\\text{fl}(a) + \\text{fl}(b)\\,)$$"
   ]
  },
  {
   "cell_type": "code",
   "execution_count": null,
   "id": "ec1f8ad8",
   "metadata": {
    "slideshow": {
     "slide_type": ""
    },
    "tags": []
   },
   "outputs": [],
   "source": [
    "import decimal\n",
    "\n",
    "print('fl(0.1) = ', decimal.Decimal(0.1))\n",
    "print('fl(0.2) = ', decimal.Decimal(0.2))\n",
    "print('fl(0.3) = ', decimal.Decimal(0.3))"
   ]
  },
  {
   "cell_type": "markdown",
   "id": "f3dfb5b3",
   "metadata": {
    "slideshow": {
     "slide_type": ""
    },
    "tags": []
   },
   "source": [
    "If a number has a finite representation in decimal form, it does not mean it has a finite representation in binary form.\n",
    "- $0.1$ in binary form is like $0.3333333...$ in decimal.\n",
    "\n",
    "$$(0.1)_{10} = (0.00011001100110011001100110011001...)_{2}$$"
   ]
  },
  {
   "cell_type": "markdown",
   "id": "784347d3",
   "metadata": {
    "slideshow": {
     "slide_type": "slide"
    },
    "tags": []
   },
   "source": [
    "### Surprise 3\n",
    "\n",
    "#### Maths says...\n",
    "$$(a + b) + c = a + (b + c)$$\n",
    "\n",
    "#### Computer says..."
   ]
  },
  {
   "cell_type": "code",
   "execution_count": null,
   "id": "40a52e58",
   "metadata": {
    "slideshow": {
     "slide_type": ""
    },
    "tags": []
   },
   "outputs": [],
   "source": [
    "a = 1e16\n",
    "b = -1e16\n",
    "c = 1.0\n",
    "\n",
    "print('Associativity rules:', (a + b) + c == a + (b + c))"
   ]
  },
  {
   "cell_type": "code",
   "execution_count": null,
   "id": "c34edc5c",
   "metadata": {
    "slideshow": {
     "slide_type": ""
    },
    "tags": []
   },
   "outputs": [],
   "source": [
    "print(\"(a + b) + c = \", (a + b) + c)\n",
    "print(\"a + (b + c) = \", a + (b + c))"
   ]
  },
  {
   "cell_type": "markdown",
   "id": "0d3c4aff",
   "metadata": {
    "slideshow": {
     "slide_type": "slide"
    },
    "tags": []
   },
   "source": [
    "### Why?\n",
    "\n",
    "- We round to the closest machine number:\n",
    "\n",
    "$$\\text{fl}(\\,\\text{fl}(a) + \\text{fl}(b)\\,)$$"
   ]
  },
  {
   "cell_type": "code",
   "execution_count": null,
   "id": "84e25b36",
   "metadata": {
    "slideshow": {
     "slide_type": ""
    },
    "tags": []
   },
   "outputs": [],
   "source": [
    "print('fl(a) = ', decimal.Decimal(a))\n",
    "print('fl(b) = ', decimal.Decimal(b))\n",
    "print('fl(c) = ', decimal.Decimal(c))\n",
    "print('fl(a + b) = ', decimal.Decimal(a + b))\n",
    "print('fl(b + c) = ', decimal.Decimal(b + c))"
   ]
  },
  {
   "cell_type": "markdown",
   "id": "21b69a0b",
   "metadata": {},
   "source": [
    "Machine numbers are not equally spaced or equally \"dense\"."
   ]
  },
  {
   "cell_type": "markdown",
   "id": "f75f3647",
   "metadata": {
    "slideshow": {
     "slide_type": "slide"
    },
    "tags": []
   },
   "source": [
    "### Surprise 4\n",
    "\n",
    "#### Maths says...\n",
    "$$1.0000001 - 1 = 0.000001 = 10^{-7}$$\n",
    "\n",
    "#### Computer says..."
   ]
  },
  {
   "cell_type": "code",
   "execution_count": null,
   "id": "a52558ea",
   "metadata": {
    "slideshow": {
     "slide_type": ""
    },
    "tags": []
   },
   "outputs": [],
   "source": [
    "a = 1.0000001\n",
    "b = 1.0000000\n",
    "\n",
    "print(\"a - b == 1e-7:\", a - b == 1e-7)"
   ]
  },
  {
   "cell_type": "code",
   "execution_count": null,
   "id": "7ae0c80e",
   "metadata": {
    "slideshow": {
     "slide_type": ""
    },
    "tags": []
   },
   "outputs": [],
   "source": [
    "print(\"a - b =\", a - b)"
   ]
  },
  {
   "cell_type": "markdown",
   "id": "dfe16a0e",
   "metadata": {
    "slideshow": {
     "slide_type": "slide"
    },
    "tags": []
   },
   "source": [
    "### Why? (self-study, talk to ChatGPT/Copilot about it)\n",
    "\n",
    "**Theorem (Loss of Significance in Subtraction):**\n",
    "\n",
    "Let $a$ and $b$ be two floating-point numbers that are **close** in value. When subtracting $b$ from $a$ in floating-point arithmetic, the result can experience a **loss of significance** due to cancellation of leading digits.\n",
    "\n",
    "If $a \\approx b$, then:\n",
    "\n",
    "$$a - b = (a - b) \\cdot \\left(1 + \\epsilon\\right)$$\n",
    "\n",
    "where $\\epsilon$ is a small error term due to floating-point rounding.\n",
    "\n",
    "#### Implications:\n",
    "1. **Subtraction** of nearly equal values can **magnify relative errors** in floating-point representations.\n",
    "2. This leads to a significant **reduction in precision**, potentially making results unreliable for further computation.\n",
    "3. The effect is particularly severe when the number of **leading significant digits** in $a$ and $b$ that cancel out is high.\n"
   ]
  },
  {
   "cell_type": "markdown",
   "id": "35ec85d9",
   "metadata": {
    "slideshow": {
     "slide_type": "slide"
    },
    "tags": []
   },
   "source": [
    "### Surprise 5\n",
    "\n",
    "#### Maths says...\n",
    "$$a \\times b = \\underbrace{b + b + ... + b}_{\\text{a times}}$$\n",
    "\n",
    "#### Computer says..."
   ]
  },
  {
   "cell_type": "code",
   "execution_count": null,
   "id": "e8f160f0",
   "metadata": {
    "slideshow": {
     "slide_type": ""
    },
    "tags": []
   },
   "outputs": [],
   "source": [
    "import numpy as np\n",
    "\n",
    "a = 100\n",
    "b = 0.1\n",
    "\n",
    "s = 0\n",
    "for _ in range(a):\n",
    "    s += b\n",
    "\n",
    "print(\"a * b == b + b + b +...:\", a * b == s)"
   ]
  },
  {
   "cell_type": "code",
   "execution_count": null,
   "id": "f3a4fd4e",
   "metadata": {
    "slideshow": {
     "slide_type": ""
    },
    "tags": []
   },
   "outputs": [],
   "source": [
    "print(\"a * b =\", a * b)\n",
    "print(\"b + b + b + b + ...=\", s)"
   ]
  },
  {
   "cell_type": "markdown",
   "id": "820dbed9",
   "metadata": {
    "slideshow": {
     "slide_type": "slide"
    },
    "tags": []
   },
   "source": [
    "### Why?\n",
    "\n",
    "The error accumulates over many iterations."
   ]
  },
  {
   "cell_type": "code",
   "execution_count": null,
   "id": "9a18fe04",
   "metadata": {
    "slideshow": {
     "slide_type": ""
    },
    "tags": []
   },
   "outputs": [],
   "source": [
    "print('fl(0.1) =' , decimal.Decimal(0.1))\n",
    "print('fl(s) =', decimal.Decimal(s))"
   ]
  },
  {
   "cell_type": "markdown",
   "id": "5534e0de",
   "metadata": {
    "slideshow": {
     "slide_type": "slide"
    },
    "tags": []
   },
   "source": [
    "## Takehome message!!! 🎉🕺\n",
    "\n",
    "**Do not compare floats using `==`!!!**\n",
    "\n",
    "Instead, use\n",
    "\n",
    "$$|a - b| < \\text{tol}$$\n",
    "\n",
    "For convenience, there is `np.isclose`:"
   ]
  },
  {
   "cell_type": "code",
   "execution_count": null,
   "id": "52f6d294",
   "metadata": {
    "slideshow": {
     "slide_type": ""
    },
    "tags": []
   },
   "outputs": [],
   "source": [
    "np.isclose(0.1 + 0.2, 0.3, atol=1e-15, rtol=1e-5)"
   ]
  },
  {
   "cell_type": "markdown",
   "id": "230c80b7",
   "metadata": {
    "slideshow": {
     "slide_type": "slide"
    }
   },
   "source": [
    "### EOL Quiz:\n",
    "\n",
    "Answer 5 MCQs (anonymous): https://forms.office.com/e/4MY5qeDK04\n",
    "\n",
    "1. For 5 min or so, please think about what the correct answers are and note them down. **Do not submit the form yet.**\n",
    "2. Discuss your answers with several people around you. Has anyone changed your mind? Now, submit your final answers."
   ]
  },
  {
   "cell_type": "markdown",
   "id": "1b9d3ba4",
   "metadata": {
    "slideshow": {
     "slide_type": "slide"
    }
   },
   "source": [
    "### Feedback form\n",
    "\n",
    "I’d love to hear your thoughts on today’s lecture — your feedback helps me make future sessions better for you!\n",
    "\n",
    "https://forms.office.com/e/BiekMgPTMm"
   ]
  },
  {
   "cell_type": "markdown",
   "id": "3540e33f",
   "metadata": {
    "slideshow": {
     "slide_type": "slide"
    },
    "tags": []
   },
   "source": [
    "# Exercises"
   ]
  },
  {
   "cell_type": "markdown",
   "id": "2d10e0ab",
   "metadata": {
    "slideshow": {
     "slide_type": "slide"
    },
    "tags": []
   },
   "source": [
    "### Exercise 1: `dec2bin`\n",
    "\n",
    "In this exercise, you will write a function to convert a decimal floating point number to its binary representation. Follow these steps to complete the exercise:\n",
    "\n",
    "1. Create a function `dec2bin_integer(integer_part)`. This function takes an integer part of a decimal number as input and returns its binary representation as a string.\n",
    "\n",
    "\n",
    "2. Create a function `dec2bin_fractional(fractional_part, max_fractional_digits=52)`. This function should take the fractional part of a decimal number and the maximum number of digits in the fractional part as input. It returns the binary representation of the fractional part as a string. We limit the number of digits in the fractional part to avoid having an infinite loops - some numbers don't have a finite binary representation.\n",
    "\n",
    "3. Create a main function `float_to_binary(num, max_fractional_digits=52)`. This function should take a decimal float and the maximum number of digits in the fractional part as input. Internally, it separates the integer and fractional parts of the input number and calls `dec2bin_integer` and `float_to_binary` defined above. Finally, it returns the combined binary representation of the integer and fractional parts as a string."
   ]
  },
  {
   "cell_type": "code",
   "id": "ece354a3",
   "metadata": {
    "ExecuteTime": {
     "end_time": "2024-10-16T08:41:44.482997Z",
     "start_time": "2024-10-16T08:41:44.479021Z"
    }
   },
   "source": [
    "def dec2bin_integer(integer_part):\n",
    "    \"\"\"Convert the integer part of a decimal number to its binary representation.\"\"\"\n",
    "    if integer_part == 0:\n",
    "        return \"0\"\n",
    "    binary_str = \"\"\n",
    "    while integer_part > 0:\n",
    "        binary_str = str(integer_part % 2) + binary_str\n",
    "        integer_part //= 2\n",
    "    return binary_str\n",
    "\n",
    "def dec2bin_fractional(fractional_part, max_fractional_digits=52):\n",
    "    \"\"\"Convert the fractional part of a decimal number to its binary representation.\"\"\"\n",
    "    binary_str = \"\"\n",
    "    count = 0\n",
    "    while fractional_part > 0 and count < max_fractional_digits:\n",
    "        fractional_part *= 2\n",
    "        bit = int(fractional_part)\n",
    "        if bit == 1:\n",
    "            fractional_part -= bit\n",
    "            binary_str += \"1\"\n",
    "        else:\n",
    "            binary_str += \"0\"\n",
    "        count += 1\n",
    "    return binary_str\n",
    "\n",
    "def float_to_binary(num, max_fractional_digits=52):\n",
    "    \"\"\"Convert a decimal floating point number to its binary representation.\"\"\"\n",
    "    if num < 0:\n",
    "        sign = \"-\"\n",
    "        num = -num\n",
    "    else:\n",
    "        sign = \"\"\n",
    "    \n",
    "    integer_part = int(num)\n",
    "    fractional_part = num - integer_part\n",
    "    \n",
    "    integer_binary = dec2bin_integer(integer_part)\n",
    "    fractional_binary = dec2bin_fractional(fractional_part, max_fractional_digits)\n",
    "    \n",
    "    if fractional_binary:\n",
    "        return f\"{sign}{integer_binary}.{fractional_binary}\"\n",
    "    else:\n",
    "        return f\"{sign}{integer_binary}\"\n",
    "\n",
    "# Example usage:\n",
    "print(float_to_binary(11.625))  # Output: \"1011.101\"\n",
    "print(float_to_binary(0.1, max_fractional_digits=10))  # Output: \"0.0001100110\"\n",
    "\n",
    "# Example usage.\n",
    "# assert dec2bin(11.625, max_fractional_digits=10) == '1011.101'"
   ],
   "outputs": [
    {
     "name": "stdout",
     "output_type": "stream",
     "text": [
      "1011.101\n",
      "0.0001100110\n"
     ]
    }
   ],
   "execution_count": 3
  },
  {
   "cell_type": "markdown",
   "id": "8da12dfa",
   "metadata": {
    "slideshow": {
     "slide_type": "skip"
    }
   },
   "source": [
    "#### Solution"
   ]
  },
  {
   "cell_type": "code",
   "execution_count": 27,
   "id": "0c8d9ac6",
   "metadata": {
    "slideshow": {
     "slide_type": "skip"
    }
   },
   "outputs": [],
   "source": [
    "def dec2bin_integer(integer_part):\n",
    "    \"\"\"\n",
    "    Convert the integer part of a decimal number to its binary representation.\n",
    "    \n",
    "    Parameters\n",
    "    ----------\n",
    "    integer_part : int\n",
    "        The integer part of the decimal number.\n",
    "    \n",
    "    Returns\n",
    "    -------\n",
    "    str\n",
    "        The binary representation of the integer part.\n",
    "\n",
    "    \"\"\"\n",
    "    if integer_part == 0:\n",
    "        return \"0\"\n",
    "    \n",
    "    integer_binary = \"\"\n",
    "    while integer_part > 0:\n",
    "        integer_binary = str(integer_part % 2) + integer_binary\n",
    "        integer_part //= 2\n",
    "    \n",
    "    return integer_binary\n",
    "\n",
    "def dec2bin_fractional(fractional_part, max_fractional_digits=52):\n",
    "    \"\"\"\n",
    "    Convert the fractional part of a decimal number to its binary representation.\n",
    "    \n",
    "    Parameters\n",
    "    ----------\n",
    "    fractional_part : float\n",
    "        The fractional part of the decimal number.\n",
    "\n",
    "    max_fractional_digits : int, optional\n",
    "        The maximum number of digits in the fractional part (default is 52).\n",
    "    \n",
    "    Returns\n",
    "    -------\n",
    "    str\n",
    "        The binary representation of the fractional part.\n",
    "\n",
    "    \"\"\"\n",
    "    fractional_binary = []\n",
    "    while fractional_part and len(fractional_binary) < max_fractional_digits:\n",
    "        fractional_part *= 2\n",
    "        bit = int(fractional_part)\n",
    "        fractional_binary.append(str(bit))\n",
    "        fractional_part -= bit\n",
    "    \n",
    "    return \"\".join(fractional_binary)\n",
    "\n",
    "def dec2bin(num, max_fractional_digits=52):\n",
    "    \"\"\"\n",
    "    Convert a decimal float to its binary representation.\n",
    "    \n",
    "    Parameters\n",
    "    ----------\n",
    "    num : float\n",
    "        The decimal float to convert.\n",
    "\n",
    "    max_fractional_digits : int, optional\n",
    "        The maximum number of digits in the fractional part (default is 52).\n",
    "    \n",
    "    Returns\n",
    "    -------\n",
    "    str\n",
    "        The binary representation of the input float.\n",
    "\n",
    "    \"\"\"\n",
    "    if num == 0:\n",
    "        return \"0.0\"\n",
    "    \n",
    "    # Separate the integer and fractional parts.\n",
    "    integer_part = int(num)\n",
    "    fractional_part = num - integer_part\n",
    "    \n",
    "    # Convert integer and fractional parts to binary.\n",
    "    integer_binary = dec2bin_integer(integer_part)\n",
    "    fractional_binary = dec2bin_fractional(fractional_part, max_fractional_digits)\n",
    "    \n",
    "    return f\"{integer_binary}.{fractional_binary}\"\n",
    "\n",
    "# Example usage\n",
    "assert dec2bin(11.625, max_fractional_digits=10) == '1011.101'"
   ]
  },
  {
   "cell_type": "markdown",
   "id": "9c5e6c8b",
   "metadata": {
    "slideshow": {
     "slide_type": "slide"
    },
    "tags": []
   },
   "source": [
    "### Exercise 2\n",
    "\n",
    "Let's assume we have a machine (computer) that represents floating-point numbers using the following representation:\n",
    "\n",
    "$$x = \\pm(0.b_{1}b_{2}b_{3})_{2} \\times 2^{e}, \\quad b_{1}, b_{2}, b_{3}, e \\in \\{0, 1\\}$$\n",
    "\n",
    "1. How many machine numbers are there? What decimal values have those numbers?\n",
    "2. How do the machine numbers change if we enforce normalisation (e.g. $b_{1}=1$)?"
   ]
  },
  {
   "cell_type": "markdown",
   "id": "860c22ae",
   "metadata": {
    "slideshow": {
     "slide_type": "skip"
    },
    "tags": []
   },
   "source": [
    "#### Solution"
   ]
  },
  {
   "cell_type": "code",
   "execution_count": null,
   "id": "eb32dd55",
   "metadata": {
    "slideshow": {
     "slide_type": "skip"
    }
   },
   "outputs": [],
   "source": [
    "import itertools\n",
    "\n",
    "def compute_decimal(s, b0, b1, b2, e):\n",
    "    mantissa = b0 * 2**0 + b1 * 2**-1 + b2 * 2**-2\n",
    "    return (-1)**s * mantissa * 2**e\n",
    "\n",
    "machine_numbers = [compute_decimal(*bits) for bits in itertools.product(*[(0, 1) for _ in range(5)])] \n",
    "print(f'Machine numbers: {machine_numbers}')"
   ]
  },
  {
   "cell_type": "markdown",
   "id": "a7ac4afe",
   "metadata": {
    "slideshow": {
     "slide_type": "skip"
    }
   },
   "source": [
    "We can see there are duplicates. Let us show and count only unique numbers:"
   ]
  },
  {
   "cell_type": "code",
   "execution_count": null,
   "id": "1872de3e",
   "metadata": {
    "slideshow": {
     "slide_type": "skip"
    }
   },
   "outputs": [],
   "source": [
    "machine_numbers = set(machine_numbers)\n",
    "print(f'Machine numbers: {machine_numbers}')\n",
    "print(f'Number of machine numbers: {len(machine_numbers)}')"
   ]
  },
  {
   "cell_type": "code",
   "execution_count": null,
   "id": "a953447d",
   "metadata": {
    "slideshow": {
     "slide_type": "skip"
    }
   },
   "outputs": [],
   "source": [
    "def compute_decimal_normalised(s, b1, b2, e):\n",
    "    mantissa = 1 * 2**0 + b1 * 2**-1 + b2 * 2**-2\n",
    "    return (-1)**s * mantissa * 2**e\n",
    "\n",
    "machine_numbers = [compute_decimal_normalised(*bits) for bits in itertools.product(*[(0, 1) for _ in range(4)])] \n",
    "\n",
    "machine_numbers = set(machine_numbers)\n",
    "print(f'Machine numbers: {machine_numbers}')\n",
    "print(f'Number of machine numbers: {len(machine_numbers)}')"
   ]
  },
  {
   "cell_type": "markdown",
   "id": "3a9f3e4e",
   "metadata": {
    "slideshow": {
     "slide_type": "slide"
    },
    "tags": []
   },
   "source": [
    "### Exercise 3\n",
    "\n",
    "What is the machine representation of the decimal number -24.98746 in both single and double precision? What are those 32 and 64 bits, respectively?"
   ]
  },
  {
   "cell_type": "markdown",
   "id": "68a422c0",
   "metadata": {
    "slideshow": {
     "slide_type": "skip"
    },
    "tags": []
   },
   "source": [
    "#### Solution\n",
    "\n",
    "We need to determine:\n",
    "* sign\n",
    "* mantissa\n",
    "* exponent\n",
    "\n",
    "1. **Single precision**\n",
    "\n",
    "The formula is:\n",
    "\n",
    "$$x = (-1)^{s} \\times (1.f)_{2} \\times 2^{e-127}$$\n",
    "\n",
    "The number -24.98746 is negative. Therefore, the sign bit $s$ is 1, so that $(-1)^{s} = -1$.\n",
    "\n",
    "In the next step, we convert the number to its binary representation. For that, we can use `dec2bin` function:"
   ]
  },
  {
   "cell_type": "code",
   "execution_count": null,
   "id": "99d59c17",
   "metadata": {
    "slideshow": {
     "slide_type": "skip"
    }
   },
   "outputs": [],
   "source": [
    "dec2bin(24.98746, max_fractional_digits=30)"
   ]
  },
  {
   "cell_type": "markdown",
   "id": "fc72f517",
   "metadata": {
    "slideshow": {
     "slide_type": "skip"
    }
   },
   "source": [
    "The binary number is not normalised (normalised binary number is in `1.xxxxx` form). Therefore, we shift the (radix) point 4 times to the left and the number we get is:\n",
    "\n",
    "$$1.1000111111001100101000101101101101 \\times 2^{4}$$\n",
    "\n",
    "If we compare this number to the formula for single precision:\n",
    "\n",
    "$$x = (-1)^{s} \\times (1.f)_{2} \\times 2^{e-127}$$\n",
    "\n",
    "we can see that:\n",
    "\n",
    "$$2^{e-127} = 2^{4} \\rightarrow e-127 = 4 \\rightarrow e = 131$$\n",
    "\n",
    "Now, we need to convert $131$ to its binary form to be able to place it computer memory:"
   ]
  },
  {
   "cell_type": "code",
   "execution_count": null,
   "id": "56635a7e",
   "metadata": {
    "slideshow": {
     "slide_type": "skip"
    }
   },
   "outputs": [],
   "source": [
    "dec2bin_integer(131)"
   ]
  },
  {
   "cell_type": "markdown",
   "id": "27c784f4",
   "metadata": {
    "slideshow": {
     "slide_type": "skip"
    }
   },
   "source": [
    "Finally, we select 23 bits after `1.` to save as the mantissa: `10001111110011001010001`.\n",
    "\n",
    "And that's it :) Single precision representation of out number is sign + exponent + mantissa:\n",
    "\n",
    "`11000001110001111110011001010001`"
   ]
  },
  {
   "cell_type": "code",
   "execution_count": null,
   "id": "c592e689",
   "metadata": {
    "slideshow": {
     "slide_type": "skip"
    }
   },
   "outputs": [],
   "source": [
    "sign = '1'\n",
    "exponent = '10000011'\n",
    "mantissa = '10001111110011001010001'\n",
    "\n",
    "single_precision = sign + exponent + mantissa\n",
    "print(single_precision)"
   ]
  },
  {
   "cell_type": "markdown",
   "id": "2e564a72",
   "metadata": {
    "slideshow": {
     "slide_type": "skip"
    }
   },
   "source": [
    "I will let you do the double precision representation. The workflow is the same, just more bits. The solution is:\n",
    "\n",
    "`1100000000111000111111001100101000101101101101100001101110110000`\n",
    "\n",
    "**Hint:** You may find this online tools helpful:\n",
    "* https://www.h-schmidt.net/FloatConverter/IEEE754.html"
   ]
  },
  {
   "cell_type": "markdown",
   "id": "65caeffb",
   "metadata": {
    "slideshow": {
     "slide_type": "slide"
    },
    "tags": []
   },
   "source": [
    "### Exercise 4\n",
    "\n",
    "What decimal floating-point number corresponds to $(1 01010111 10011010001001000110100)_2$ according to IEEE-754?"
   ]
  },
  {
   "cell_type": "markdown",
   "id": "43ccad7f",
   "metadata": {
    "slideshow": {
     "slide_type": "skip"
    },
    "tags": []
   },
   "source": [
    "#### Solution\n",
    "\n",
    "This number in binary is: `1 01010111 10011010001001000110100`\n",
    "\n",
    "* The first bit (`1`) is the sign: $s = 1$\n",
    "* Bits 2-9 (`01010111`) are the exponent: $e = 87$\n",
    "* Remaining 23 bits (`10011010001001000110100`) are part of the mantissa: $m = (1.10011010001001000110100)_{2} = (1.60211801528930664063)_{10}$\n",
    "\n",
    "Finally, the number we are looking for is:\n",
    "\n",
    "$(-1)^{s} \\times m \\times 2^{e-127}$"
   ]
  },
  {
   "cell_type": "code",
   "execution_count": null,
   "id": "12189d2c",
   "metadata": {
    "slideshow": {
     "slide_type": "skip"
    }
   },
   "outputs": [],
   "source": [
    "s = 1\n",
    "e = 87\n",
    "m = 1.60211801528930664063\n",
    "\n",
    "x = (-1)**s * m * 2**(e-127)\n",
    "print(f'{x = }.')"
   ]
  },
  {
   "cell_type": "markdown",
   "id": "cabba2f0",
   "metadata": {
    "slideshow": {
     "slide_type": "slide"
    },
    "tags": []
   },
   "source": [
    "## Further Reading\n",
    "\n",
    "* IEEE ComputerSociety. [IEEE Standard for Floating-Point Arithmetic](https://standards.ieee.org/standard/754-2019.html) (2019)\n",
    "* D. Goldberg. [What every computer scientist should know about floating-point arithmetic](https://doi.org/10.1145/103162.103163). *ACM Computing Surveys* **23**, 5–48. (1991)\n",
    "* M. L. Overton. [Numerical Computing with IEEE Floating Point Arithmetic](https://doi.org/10.1137/1.9780898718072). *Society for Industrial and Applied Mathematics*. (2001)\n",
    "* R. Burden, J. Faires, A. M. Burden. Numerical Analysis. Brooks Cole, 10th edition (2015)."
   ]
  }
 ],
 "metadata": {
  "celltoolbar": "Slideshow",
  "kernelspec": {
   "display_name": "Python 3 (ipykernel)",
   "language": "python",
   "name": "python3"
  },
  "language_info": {
   "codemirror_mode": {
    "name": "ipython",
    "version": 3
   },
   "file_extension": ".py",
   "mimetype": "text/x-python",
   "name": "python",
   "nbconvert_exporter": "python",
   "pygments_lexer": "ipython3",
   "version": "3.10.4"
  }
 },
 "nbformat": 4,
 "nbformat_minor": 5
}
