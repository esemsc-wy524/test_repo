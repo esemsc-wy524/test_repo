{
 "cells": [
  {
   "cell_type": "markdown",
   "metadata": {
    "slideshow": {
     "slide_type": "slide"
    }
   },
   "source": [
    "# Scientific python: NumPy, SciPy and Matplotlib"
   ]
  },
  {
   "cell_type": "markdown",
   "metadata": {},
   "source": [
    "## Supplemental Exercises to Lecture 2\n",
    "\n",
    "  * Learn what NumPy arrays are\n",
    "  * Learn basic array manipulations\n",
    "  * Learn what vectorial code is\n",
    "  * Quick overview of SciPy\n",
    "  * Learn how to do a simple 2D plot and decorate it\n",
    "  * Learn how to combine plots into a single figure"
   ]
  },
  {
   "cell_type": "markdown",
   "metadata": {},
   "source": [
    "## Further reading\n",
    "* http://scipy-lectures.org\n",
    "* https://www.nature.com/articles/s41586-020-2649-2\n",
    "* https://numpy.org/doc/"
   ]
  },
  {
   "cell_type": "markdown",
   "metadata": {},
   "source": [
    "# Supplemental exercises\n",
    "The following is supplimental if you would like more practice on what you have covered:\n"
   ]
  },
  {
   "cell_type": "code",
   "metadata": {
    "ExecuteTime": {
     "end_time": "2024-10-08T12:56:49.444941Z",
     "start_time": "2024-10-08T12:56:45.921062Z"
    }
   },
   "source": [
    "# Import pybryt which will be used to check your solutions against reference solutions\n",
    "import pybryt\n",
    "from reflecture import pybryt_reference\n",
    "# Convention: Import numpy and alias/rename it as np\n",
    "import numpy as np"
   ],
   "outputs": [],
   "execution_count": 1
  },
  {
   "cell_type": "markdown",
   "metadata": {},
   "source": [
    "### Exercise 2.20\n",
    "We are going to start with an array using the arange method. \n",
    "\n",
    "Use arange to create an array with 20 elements. It should be named `arr`."
   ]
  },
  {
   "cell_type": "code",
   "metadata": {
    "ExecuteTime": {
     "end_time": "2024-10-08T12:58:28.741582Z",
     "start_time": "2024-10-08T12:58:28.738833Z"
    }
   },
   "source": [
    "## Solution...\n",
    "arr = np.arange(0, 100, 5)"
   ],
   "outputs": [],
   "execution_count": 4
  },
  {
   "cell_type": "code",
   "metadata": {
    "ExecuteTime": {
     "end_time": "2024-10-08T12:58:32.121143Z",
     "start_time": "2024-10-08T12:58:32.103753Z"
    }
   },
   "source": [
    "## do not change any of the following code. It is used to check your work and provide feedback.\n",
    "with pybryt.check(pybryt_reference(2, 201)):\n",
    "    print(arr)"
   ],
   "outputs": [
    {
     "ename": "FileNotFoundError",
     "evalue": "Reference pkl file does not exists.",
     "output_type": "error",
     "traceback": [
      "\u001B[0;31m---------------------------------------------------------------------------\u001B[0m",
      "\u001B[0;31mFileNotFoundError\u001B[0m                         Traceback (most recent call last)",
      "Cell \u001B[0;32mIn[5], line 2\u001B[0m\n\u001B[1;32m      1\u001B[0m \u001B[38;5;66;03m## do not change any of the following code. It is used to check your work and provide feedback.\u001B[39;00m\n\u001B[0;32m----> 2\u001B[0m \u001B[38;5;28;01mwith\u001B[39;00m pybryt\u001B[38;5;241m.\u001B[39mcheck(pybryt_reference(\u001B[38;5;241m2\u001B[39m, \u001B[38;5;241m201\u001B[39m)):\n\u001B[1;32m      3\u001B[0m     \u001B[38;5;28mprint\u001B[39m(arr)\n",
      "File \u001B[0;32m~/ESEProjects/MPM/test_repo/TEMP_Lecture02/reflecture.py:17\u001B[0m, in \u001B[0;36mpybryt_reference\u001B[0;34m(lecture, exercise)\u001B[0m\n\u001B[1;32m     15\u001B[0m     pybryt\u001B[38;5;241m.\u001B[39mReferenceImplementation\u001B[38;5;241m.\u001B[39mcompile(pyfilename)\u001B[38;5;241m.\u001B[39mdump(pklfilename)\n\u001B[1;32m     16\u001B[0m \u001B[38;5;28;01melif\u001B[39;00m \u001B[38;5;129;01mnot\u001B[39;00m os\u001B[38;5;241m.\u001B[39mpath\u001B[38;5;241m.\u001B[39misfile(pklfilename):\n\u001B[0;32m---> 17\u001B[0m     \u001B[38;5;28;01mraise\u001B[39;00m \u001B[38;5;167;01mFileNotFoundError\u001B[39;00m(\u001B[38;5;124m'\u001B[39m\u001B[38;5;124mReference pkl file does not exists.\u001B[39m\u001B[38;5;124m'\u001B[39m)\n\u001B[1;32m     19\u001B[0m \u001B[38;5;28;01mreturn\u001B[39;00m pklfilename\n",
      "\u001B[0;31mFileNotFoundError\u001B[0m: Reference pkl file does not exists."
     ]
    }
   ],
   "execution_count": 5
  },
  {
   "cell_type": "markdown",
   "metadata": {},
   "source": [
    "Create a new array called `arr54` formed from the array `arr` we have just created. Using reshape, turn it into a 4 by 5 array."
   ]
  },
  {
   "cell_type": "code",
   "metadata": {
    "ExecuteTime": {
     "end_time": "2024-10-08T12:58:57.143172Z",
     "start_time": "2024-10-08T12:58:57.140447Z"
    }
   },
   "source": [
    "## Solution...\n",
    "arr54 = arr.reshape(4, 5)"
   ],
   "outputs": [],
   "execution_count": 6
  },
  {
   "cell_type": "code",
   "metadata": {
    "ExecuteTime": {
     "end_time": "2024-10-08T12:58:57.954564Z",
     "start_time": "2024-10-08T12:58:57.935853Z"
    }
   },
   "source": [
    "# do not change any of the following code. It is used to check your work and provide feedback.\n",
    "with pybryt.check(pybryt_reference(2, 202)):\n",
    "    print(arr54)"
   ],
   "outputs": [
    {
     "ename": "FileNotFoundError",
     "evalue": "Reference pkl file does not exists.",
     "output_type": "error",
     "traceback": [
      "\u001B[0;31m---------------------------------------------------------------------------\u001B[0m",
      "\u001B[0;31mFileNotFoundError\u001B[0m                         Traceback (most recent call last)",
      "Cell \u001B[0;32mIn[7], line 2\u001B[0m\n\u001B[1;32m      1\u001B[0m \u001B[38;5;66;03m# do not change any of the following code. It is used to check your work and provide feedback.\u001B[39;00m\n\u001B[0;32m----> 2\u001B[0m \u001B[38;5;28;01mwith\u001B[39;00m pybryt\u001B[38;5;241m.\u001B[39mcheck(pybryt_reference(\u001B[38;5;241m2\u001B[39m, \u001B[38;5;241m202\u001B[39m)):\n\u001B[1;32m      3\u001B[0m     \u001B[38;5;28mprint\u001B[39m(arr54)\n",
      "File \u001B[0;32m~/ESEProjects/MPM/test_repo/TEMP_Lecture02/reflecture.py:17\u001B[0m, in \u001B[0;36mpybryt_reference\u001B[0;34m(lecture, exercise)\u001B[0m\n\u001B[1;32m     15\u001B[0m     pybryt\u001B[38;5;241m.\u001B[39mReferenceImplementation\u001B[38;5;241m.\u001B[39mcompile(pyfilename)\u001B[38;5;241m.\u001B[39mdump(pklfilename)\n\u001B[1;32m     16\u001B[0m \u001B[38;5;28;01melif\u001B[39;00m \u001B[38;5;129;01mnot\u001B[39;00m os\u001B[38;5;241m.\u001B[39mpath\u001B[38;5;241m.\u001B[39misfile(pklfilename):\n\u001B[0;32m---> 17\u001B[0m     \u001B[38;5;28;01mraise\u001B[39;00m \u001B[38;5;167;01mFileNotFoundError\u001B[39;00m(\u001B[38;5;124m'\u001B[39m\u001B[38;5;124mReference pkl file does not exists.\u001B[39m\u001B[38;5;124m'\u001B[39m)\n\u001B[1;32m     19\u001B[0m \u001B[38;5;28;01mreturn\u001B[39;00m pklfilename\n",
      "\u001B[0;31mFileNotFoundError\u001B[0m: Reference pkl file does not exists."
     ]
    }
   ],
   "execution_count": 7
  },
  {
   "cell_type": "markdown",
   "metadata": {},
   "source": [
    "Now change all the elements in the 3rd row of `arr54` to zero."
   ]
  },
  {
   "cell_type": "code",
   "metadata": {
    "ExecuteTime": {
     "end_time": "2024-10-08T12:59:21.592421Z",
     "start_time": "2024-10-08T12:59:21.589650Z"
    }
   },
   "source": [
    "## Solution...\n",
    "arr54[2, :] = 0"
   ],
   "outputs": [],
   "execution_count": 8
  },
  {
   "cell_type": "code",
   "metadata": {
    "ExecuteTime": {
     "end_time": "2024-10-08T12:59:23.460445Z",
     "start_time": "2024-10-08T12:59:23.444792Z"
    }
   },
   "source": [
    "# do not change any of the following code. It is used to check your work and provide feedback.\n",
    "with pybryt.check(pybryt_reference(2, 203)):\n",
    "    print(arr54)"
   ],
   "outputs": [
    {
     "ename": "FileNotFoundError",
     "evalue": "Reference pkl file does not exists.",
     "output_type": "error",
     "traceback": [
      "\u001B[0;31m---------------------------------------------------------------------------\u001B[0m",
      "\u001B[0;31mFileNotFoundError\u001B[0m                         Traceback (most recent call last)",
      "Cell \u001B[0;32mIn[9], line 2\u001B[0m\n\u001B[1;32m      1\u001B[0m \u001B[38;5;66;03m# do not change any of the following code. It is used to check your work and provide feedback.\u001B[39;00m\n\u001B[0;32m----> 2\u001B[0m \u001B[38;5;28;01mwith\u001B[39;00m pybryt\u001B[38;5;241m.\u001B[39mcheck(pybryt_reference(\u001B[38;5;241m2\u001B[39m, \u001B[38;5;241m203\u001B[39m)):\n\u001B[1;32m      3\u001B[0m     \u001B[38;5;28mprint\u001B[39m(arr54)\n",
      "File \u001B[0;32m~/ESEProjects/MPM/test_repo/TEMP_Lecture02/reflecture.py:17\u001B[0m, in \u001B[0;36mpybryt_reference\u001B[0;34m(lecture, exercise)\u001B[0m\n\u001B[1;32m     15\u001B[0m     pybryt\u001B[38;5;241m.\u001B[39mReferenceImplementation\u001B[38;5;241m.\u001B[39mcompile(pyfilename)\u001B[38;5;241m.\u001B[39mdump(pklfilename)\n\u001B[1;32m     16\u001B[0m \u001B[38;5;28;01melif\u001B[39;00m \u001B[38;5;129;01mnot\u001B[39;00m os\u001B[38;5;241m.\u001B[39mpath\u001B[38;5;241m.\u001B[39misfile(pklfilename):\n\u001B[0;32m---> 17\u001B[0m     \u001B[38;5;28;01mraise\u001B[39;00m \u001B[38;5;167;01mFileNotFoundError\u001B[39;00m(\u001B[38;5;124m'\u001B[39m\u001B[38;5;124mReference pkl file does not exists.\u001B[39m\u001B[38;5;124m'\u001B[39m)\n\u001B[1;32m     19\u001B[0m \u001B[38;5;28;01mreturn\u001B[39;00m pklfilename\n",
      "\u001B[0;31mFileNotFoundError\u001B[0m: Reference pkl file does not exists."
     ]
    }
   ],
   "execution_count": 9
  },
  {
   "cell_type": "markdown",
   "metadata": {},
   "source": [
    "Next let us reverse the order of the columns, as save the result in a new array called `arr54_flipped`. You can use `np.flip` or array slicing to achieve this."
   ]
  },
  {
   "cell_type": "code",
   "metadata": {
    "ExecuteTime": {
     "end_time": "2024-10-08T13:00:37.738454Z",
     "start_time": "2024-10-08T13:00:37.735945Z"
    }
   },
   "source": [
    "## Solution...\n",
    "arr54_flipped = arr54[:, ::-1]"
   ],
   "outputs": [],
   "execution_count": 10
  },
  {
   "cell_type": "code",
   "metadata": {
    "ExecuteTime": {
     "end_time": "2024-10-08T13:00:38.311730Z",
     "start_time": "2024-10-08T13:00:38.297640Z"
    }
   },
   "source": [
    "# do not change any of the following code. It is used to check your work and provide feedback.\n",
    "with pybryt.check(pybryt_reference(2, 204)):\n",
    "    print(arr54_flipped)"
   ],
   "outputs": [
    {
     "ename": "FileNotFoundError",
     "evalue": "Reference pkl file does not exists.",
     "output_type": "error",
     "traceback": [
      "\u001B[0;31m---------------------------------------------------------------------------\u001B[0m",
      "\u001B[0;31mFileNotFoundError\u001B[0m                         Traceback (most recent call last)",
      "Cell \u001B[0;32mIn[11], line 2\u001B[0m\n\u001B[1;32m      1\u001B[0m \u001B[38;5;66;03m# do not change any of the following code. It is used to check your work and provide feedback.\u001B[39;00m\n\u001B[0;32m----> 2\u001B[0m \u001B[38;5;28;01mwith\u001B[39;00m pybryt\u001B[38;5;241m.\u001B[39mcheck(pybryt_reference(\u001B[38;5;241m2\u001B[39m, \u001B[38;5;241m204\u001B[39m)):\n\u001B[1;32m      3\u001B[0m     \u001B[38;5;28mprint\u001B[39m(arr54_flipped)\n",
      "File \u001B[0;32m~/ESEProjects/MPM/test_repo/TEMP_Lecture02/reflecture.py:17\u001B[0m, in \u001B[0;36mpybryt_reference\u001B[0;34m(lecture, exercise)\u001B[0m\n\u001B[1;32m     15\u001B[0m     pybryt\u001B[38;5;241m.\u001B[39mReferenceImplementation\u001B[38;5;241m.\u001B[39mcompile(pyfilename)\u001B[38;5;241m.\u001B[39mdump(pklfilename)\n\u001B[1;32m     16\u001B[0m \u001B[38;5;28;01melif\u001B[39;00m \u001B[38;5;129;01mnot\u001B[39;00m os\u001B[38;5;241m.\u001B[39mpath\u001B[38;5;241m.\u001B[39misfile(pklfilename):\n\u001B[0;32m---> 17\u001B[0m     \u001B[38;5;28;01mraise\u001B[39;00m \u001B[38;5;167;01mFileNotFoundError\u001B[39;00m(\u001B[38;5;124m'\u001B[39m\u001B[38;5;124mReference pkl file does not exists.\u001B[39m\u001B[38;5;124m'\u001B[39m)\n\u001B[1;32m     19\u001B[0m \u001B[38;5;28;01mreturn\u001B[39;00m pklfilename\n",
      "\u001B[0;31mFileNotFoundError\u001B[0m: Reference pkl file does not exists."
     ]
    }
   ],
   "execution_count": 11
  },
  {
   "metadata": {},
   "cell_type": "code",
   "outputs": [],
   "execution_count": null,
   "source": ""
  }
 ],
 "metadata": {
  "anaconda-cloud": {},
  "celltoolbar": "Raw Cell Format",
  "kernelspec": {
   "display_name": "Python 3 (ipykernel)",
   "language": "python",
   "name": "python3"
  },
  "language_info": {
   "codemirror_mode": {
    "name": "ipython",
    "version": 3
   },
   "file_extension": ".py",
   "mimetype": "text/x-python",
   "name": "python",
   "nbconvert_exporter": "python",
   "pygments_lexer": "ipython3",
   "version": "3.7.13"
  }
 },
 "nbformat": 4,
 "nbformat_minor": 1
}
